{
 "cells": [
  {
   "cell_type": "code",
   "execution_count": null,
   "id": "c4d45d33",
   "metadata": {},
   "outputs": [],
   "source": [
    "welcome_text = str('Hello world')\n",
    "welcome_text"
   ]
  },
  {
   "cell_type": "code",
   "execution_count": null,
   "id": "4c266578",
   "metadata": {},
   "outputs": [],
   "source": [
    "age = int(input('Ile masz lat? '))\n",
    "print(f'Masz {age} lat')"
   ]
  },
  {
   "cell_type": "code",
   "execution_count": null,
   "id": "411cea53",
   "metadata": {},
   "outputs": [],
   "source": [
    "result = 0.1 + 0.2\n",
    "print(f'{result} is a {type(result)} number')"
   ]
  },
  {
   "cell_type": "code",
   "execution_count": null,
   "id": "64774799",
   "metadata": {},
   "outputs": [],
   "source": [
    "complex_number = 18 + 27j\n",
    "print(f'{complex_number} is a {type(complex_number)} number')"
   ]
  },
  {
   "cell_type": "code",
   "execution_count": null,
   "id": "d58eeb36",
   "metadata": {},
   "outputs": [],
   "source": [
    "fruit_list = ['banana', 'cherry', 'kiwi']\n",
    "print(f'{fruit_list} is a {type(fruit_list)}')"
   ]
  },
  {
   "cell_type": "code",
   "execution_count": null,
   "id": "2b1c79e9",
   "metadata": {},
   "outputs": [],
   "source": [
    "fruit_tuple = ('banana', 'cherry', 'kiwi')\n",
    "print(f'{fruit_tuple} is a {type(fruit_tuple)}')"
   ]
  },
  {
   "cell_type": "code",
   "execution_count": null,
   "id": "b44dc523",
   "metadata": {},
   "outputs": [],
   "source": [
    "fruit_set = {'banana', 'cherry', 'kiwi'}\n",
    "print(f'{fruit_set} is a {type(fruit_set)}')"
   ]
  },
  {
   "cell_type": "code",
   "execution_count": null,
   "id": "78213005",
   "metadata": {},
   "outputs": [],
   "source": [
    "first_boolean = True \n",
    "second_boolean = False\n",
    "print(f'{first_boolean} and {second_boolean} are {type(first_boolean)} values')"
   ]
  },
  {
   "cell_type": "code",
   "execution_count": null,
   "id": "552d477d",
   "metadata": {},
   "outputs": [],
   "source": [
    "message = 'Python is fun'\n",
    "byte_message = bytes(message, 'utf-8')\n",
    "print(f'{byte_message} has been allocated at adress {memoryview(byte_message)}')\n",
    "print(f'{byte_message} is a {type(byte_message)} value')"
   ]
  },
  {
   "cell_type": "code",
   "execution_count": null,
   "id": "f3043bbf",
   "metadata": {},
   "outputs": [],
   "source": [
    "prime_numbers = [2, 3, 5, 7]\n",
    "byte_array = bytearray(prime_numbers)\n",
    "print(f'{byte_array} has been allocated at adress {memoryview(byte_array)}')\n",
    "print(f'{byte_array} is a {type(byte_array)} value')"
   ]
  }
 ],
 "metadata": {
  "kernelspec": {
   "display_name": "Python 3",
   "language": "python",
   "name": "python3"
  },
  "language_info": {
   "codemirror_mode": {
    "name": "ipython",
    "version": 3
   },
   "file_extension": ".py",
   "mimetype": "text/x-python",
   "name": "python",
   "nbconvert_exporter": "python",
   "pygments_lexer": "ipython3",
   "version": "3.11.0 (main, Oct 24 2022, 18:26:48) [MSC v.1933 64 bit (AMD64)]"
  },
  "vscode": {
   "interpreter": {
    "hash": "4a681511beff5b82682629f5dc667e04611352c0de02c63bc5dbfa0df16181a7"
   }
  }
 },
 "nbformat": 4,
 "nbformat_minor": 5
}
